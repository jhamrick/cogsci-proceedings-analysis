{
 "metadata": {
  "name": "",
  "signature": "sha256:cddee9362ca627ff2fb401f75847537678fc63585c328476ed4f489243d25e3c"
 },
 "nbformat": 3,
 "nbformat_minor": 0,
 "worksheets": [
  {
   "cells": [
    {
     "cell_type": "heading",
     "level": 1,
     "metadata": {},
     "source": [
      "Analyzing CogSci proceedings authors"
     ]
    },
    {
     "cell_type": "code",
     "collapsed": false,
     "input": [
      "%matplotlib inline"
     ],
     "language": "python",
     "metadata": {},
     "outputs": [],
     "prompt_number": 1
    },
    {
     "cell_type": "markdown",
     "metadata": {},
     "source": [
      "First, we need to actually get the list of authors and papers. We can scrape these from the [mindmodeling website](https://mindmodeling.org). Unfortunately, however, the proceedings are formatted differently for different years, so we need a couple of different functions to handle this."
     ]
    },
    {
     "cell_type": "code",
     "collapsed": false,
     "input": [
      "import urllib2\n",
      "from bs4 import BeautifulSoup, element\n",
      "\n",
      "def load_html(url):\n",
      "    response = urllib2.urlopen(url)\n",
      "    html = response.read().replace(\"&nbsp;\", \"\")\n",
      "    return html\n",
      "\n",
      "def get_papers_table(year):\n",
      "    url = \"https://mindmodeling.org/cogsci{}/\".format(year)\n",
      "    soup = BeautifulSoup(load_html(url))\n",
      "    tables = soup.find_all(\"table\")\n",
      "    tds = tables[5].find_all(\"td\")\n",
      "    tds = [td for td in tds if len(td.contents) > 0]\n",
      "\n",
      "    papers = []\n",
      "    paper = {}\n",
      "    for td in tds:\n",
      "        for elem in td.contents:\n",
      "            if isinstance(elem, element.NavigableString):\n",
      "                paper['authors'] = unicode(elem)\n",
      "                papers.append(paper)\n",
      "                paper = {}\n",
      "            elif elem.name == 'a':\n",
      "                href = url + elem.attrs['href']\n",
      "                title = \"\".join(elem.contents)\n",
      "                paper['url'] = href\n",
      "                paper['title'] = title\n",
      "                \n",
      "    papers = pd.DataFrame.from_dict(papers)\n",
      "    papers['year'] = year\n",
      "    return papers\n",
      "\n",
      "def get_papers_list(year):\n",
      "    url = \"https://mindmodeling.org/cogsci{}/\".format(year)\n",
      "    html = load_html(url)\n",
      "    html = html.replace(\"<li>\", \"\").replace(\"<li id=session>\", \"\")\n",
      "    soup = BeautifulSoup(html)\n",
      "\n",
      "    papers = []\n",
      "    paper = {}\n",
      "\n",
      "    for elem in soup.findAll(\"a\"):\n",
      "        sibling = elem.findNextSibling()\n",
      "        if not hasattr(sibling, \"name\"):\n",
      "            continue\n",
      "        if sibling.name != \"ul\":\n",
      "            continue\n",
      "\n",
      "        href = url + elem.attrs['href']\n",
      "        try:\n",
      "            title = \"\".join(elem.contents)\n",
      "        except TypeError:\n",
      "            continue\n",
      "\n",
      "        paper = {}\n",
      "        paper['url'] = href\n",
      "        paper['title'] = title\n",
      "\n",
      "        authors, = sibling.contents\n",
      "        paper['authors'] = unicode(authors)\n",
      "        papers.append(paper)\n",
      "\n",
      "    papers = pd.DataFrame.from_dict(papers)\n",
      "    papers['year'] = year\n",
      "    return papers"
     ],
     "language": "python",
     "metadata": {},
     "outputs": [],
     "prompt_number": 2
    },
    {
     "cell_type": "markdown",
     "metadata": {},
     "source": [
      "Now that we have functions that will load the data for us, we can get our list of papers and put it into a pandas dataframe:"
     ]
    },
    {
     "cell_type": "code",
     "collapsed": false,
     "input": [
      "import pandas as pd\n",
      "\n",
      "orig_papers = pd.concat([\n",
      "    get_papers_table(2014),\n",
      "    get_papers_list(2013),\n",
      "    get_papers_list(2012),\n",
      "    get_papers_list(2011),\n",
      "    get_papers_list(2010)\n",
      "])"
     ],
     "language": "python",
     "metadata": {},
     "outputs": [],
     "prompt_number": 3
    },
    {
     "cell_type": "code",
     "collapsed": false,
     "input": [
      "orig_papers.head(5)"
     ],
     "language": "python",
     "metadata": {},
     "outputs": [
      {
       "html": [
        "<div style=\"max-height:1000px;max-width:1500px;overflow:auto;\">\n",
        "<table border=\"1\" class=\"dataframe\">\n",
        "  <thead>\n",
        "    <tr style=\"text-align: right;\">\n",
        "      <th></th>\n",
        "      <th>authors</th>\n",
        "      <th>title</th>\n",
        "      <th>url</th>\n",
        "      <th>year</th>\n",
        "    </tr>\n",
        "  </thead>\n",
        "  <tbody>\n",
        "    <tr>\n",
        "      <th>0</th>\n",
        "      <td> Josh de Leeuw, Anna Coenen, Doug Markant, Jay ...</td>\n",
        "      <td> Online Experiments using jsPsych, psiTurk, and...</td>\n",
        "      <td> https://mindmodeling.org/cogsci2014/papers/001/</td>\n",
        "      <td> 2014</td>\n",
        "    </tr>\n",
        "    <tr>\n",
        "      <th>1</th>\n",
        "      <td>                      Noah Goodman, Josh Tenenbaum</td>\n",
        "      <td> Probability, programs, and the mind: Building ...</td>\n",
        "      <td> https://mindmodeling.org/cogsci2014/papers/002/</td>\n",
        "      <td> 2014</td>\n",
        "    </tr>\n",
        "    <tr>\n",
        "      <th>2</th>\n",
        "      <td> Anne Cleary, James Donlon, Evan Heit, Chris Ho...</td>\n",
        "      <td> Applying for National Science Foundation Fundi...</td>\n",
        "      <td> https://mindmodeling.org/cogsci2014/papers/003/</td>\n",
        "      <td> 2014</td>\n",
        "    </tr>\n",
        "    <tr>\n",
        "      <th>3</th>\n",
        "      <td>                                      Eva Hudlicka</td>\n",
        "      <td> Computational Modeling of Cognition-Emotion In...</td>\n",
        "      <td> https://mindmodeling.org/cogsci2014/papers/004/</td>\n",
        "      <td> 2014</td>\n",
        "    </tr>\n",
        "    <tr>\n",
        "      <th>4</th>\n",
        "      <td>                        Byron Wallace, Laura Kertz</td>\n",
        "      <td> Can Cognitive Scientists Help Computers Recogn...</td>\n",
        "      <td> https://mindmodeling.org/cogsci2014/papers/005/</td>\n",
        "      <td> 2014</td>\n",
        "    </tr>\n",
        "  </tbody>\n",
        "</table>\n",
        "<p>5 rows \u00d7 4 columns</p>\n",
        "</div>"
       ],
       "metadata": {},
       "output_type": "pyout",
       "prompt_number": 4,
       "text": [
        "                                             authors  \\\n",
        "0  Josh de Leeuw, Anna Coenen, Doug Markant, Jay ...   \n",
        "1                       Noah Goodman, Josh Tenenbaum   \n",
        "2  Anne Cleary, James Donlon, Evan Heit, Chris Ho...   \n",
        "3                                       Eva Hudlicka   \n",
        "4                         Byron Wallace, Laura Kertz   \n",
        "\n",
        "                                               title  \\\n",
        "0  Online Experiments using jsPsych, psiTurk, and...   \n",
        "1  Probability, programs, and the mind: Building ...   \n",
        "2  Applying for National Science Foundation Fundi...   \n",
        "3  Computational Modeling of Cognition-Emotion In...   \n",
        "4  Can Cognitive Scientists Help Computers Recogn...   \n",
        "\n",
        "                                               url  year  \n",
        "0  https://mindmodeling.org/cogsci2014/papers/001/  2014  \n",
        "1  https://mindmodeling.org/cogsci2014/papers/002/  2014  \n",
        "2  https://mindmodeling.org/cogsci2014/papers/003/  2014  \n",
        "3  https://mindmodeling.org/cogsci2014/papers/004/  2014  \n",
        "4  https://mindmodeling.org/cogsci2014/papers/005/  2014  \n",
        "\n",
        "[5 rows x 4 columns]"
       ]
      }
     ],
     "prompt_number": 4
    },
    {
     "cell_type": "markdown",
     "metadata": {},
     "source": [
      "All of the authors are in the same column, which isn't very useful if we want to analyze who has published with who. We need to break them apart into individual lists. Additionally, we want to do some string formatting, like making all the names lowercase (in case there is inconsistent capitalization) and removing extraneous spaces:"
     ]
    },
    {
     "cell_type": "code",
     "collapsed": false,
     "input": [
      "from nameparser import HumanName\n",
      "\n",
      "def clean_authors(authors):\n",
      "    cleaned_authors = []\n",
      "    authors = authors.lower()\n",
      "    authors = authors.replace(\", jr.\", \" jr.\")\n",
      "    authors = authors.replace(\", iii\", \" iii\")\n",
      "    authors = authors.replace(\", ph.d\", \"\")\n",
      "    authors = authors.replace(\", t.\", \"t.\")\n",
      "    authors = authors.replace(\", willems\", \"willems\")\n",
      "    for author in authors.split(\",\"):\n",
      "        author = HumanName(author.lower())\n",
      "        if author.first == '' or author.last == '':\n",
      "            print author\n",
      "        author = u\"{}, {}\".format(author.last, author.first)\n",
      "        cleaned_authors.append(author)\n",
      "    return cleaned_authors"
     ],
     "language": "python",
     "metadata": {},
     "outputs": [],
     "prompt_number": 82
    },
    {
     "cell_type": "markdown",
     "metadata": {},
     "source": [
      "Now we have a function to clean up the author list, so we can go through and separate out our papers into individual rows for each author:"
     ]
    },
    {
     "cell_type": "code",
     "collapsed": false,
     "input": [
      "papers = []\n",
      "for i, paper in orig_papers.iterrows():\n",
      "    authors = clean_authors(paper['authors'])\n",
      "    for author in authors:\n",
      "        entry = paper.copy().drop('authors')\n",
      "        entry['author'] = author\n",
      "        papers.append(entry)\n",
      "\n",
      "papers = pd.DataFrame(papers)\n",
      "papers.loc[787, 'author'] = 'shiffrin, richard'"
     ],
     "language": "python",
     "metadata": {},
     "outputs": [
      {
       "output_type": "stream",
       "stream": "stdout",
       "text": [
        "gen ito\n",
        "workshop"
       ]
      },
      {
       "output_type": "stream",
       "stream": "stdout",
       "text": [
        "\n",
        "prin amorapanth"
       ]
      },
      {
       "output_type": "stream",
       "stream": "stdout",
       "text": [
        "\n"
       ]
      }
     ],
     "prompt_number": 137
    },
    {
     "cell_type": "markdown",
     "metadata": {},
     "source": [
      "Let's now create a graph of author connectivity -- one link between each pair of authors that has published together. We can also assign a weight to each of the edges for the *number* of coauthored papers:"
     ]
    },
    {
     "cell_type": "code",
     "collapsed": false,
     "input": [
      "import networkx as nx\n",
      "\n",
      "G = nx.Graph()\n",
      "for paper, df in papers.groupby('title'):\n",
      "    authors = df['author']\n",
      "    for author in authors:\n",
      "        if not G.has_node(author):\n",
      "            G.add_node(author)\n",
      "\n",
      "    for i, author1 in enumerate(authors):\n",
      "        for author2 in authors[(i + 1):]:\n",
      "            if not G.has_edge(author1, author2):\n",
      "                G.add_edge(author1, author2)\n",
      "                G.edge[author1][author2]['papers'] = 0\n",
      "            G.edge[author1][author2]['papers'] += 1"
     ],
     "language": "python",
     "metadata": {},
     "outputs": [],
     "prompt_number": 179
    },
    {
     "cell_type": "code",
     "collapsed": false,
     "input": [
      "import difflib\n",
      "authors = sorted(papers['author'].unique())\n",
      "for i, author1 in enumerate(authors):\n",
      "    window = 20\n",
      "    lower = i + 1\n",
      "    upper = min(i + 1 + window, len(authors) - 1)\n",
      "    for author2 in authors[lower:upper]:\n",
      "        if author1 == author2:\n",
      "            continue\n",
      "        ratio = difflib.SequenceMatcher(None, author1, author2).ratio()\n",
      "        if ratio > 0.9:\n",
      "            coauthors = set(G[author1].keys()) & set(G[author2].keys())\n",
      "            if len(coauthors) > 0:\n",
      "                replace = True\n",
      "            else:\n",
      "                print u\"Possible match: '{}' vs '{}' (r={})\".format(\n",
      "                    author1, author2, ratio)\n",
      "                print sorted(G[author1].keys())\n",
      "                print sorted(G[author2].keys())\n",
      "                accept = \"\"\n",
      "                while accept not in (\"y\", \"n\"):\n",
      "                    accept = raw_input(\"Accept? (y/n) \")\n",
      "                replace = accept == \"y\"\n",
      "        else:\n",
      "            replace = False\n",
      "\n",
      "        if replace:\n",
      "            num1 = len(papers.groupby('author').get_group(author1))\n",
      "            num2 = len(papers.groupby('author').get_group(author2))\n",
      "            if num1 > num2:\n",
      "                oldname = author2\n",
      "                newname = author1\n",
      "            else:\n",
      "                oldname = author1\n",
      "                newname = author2\n",
      "\n",
      "            print u\"Replacing '{}' with '{}'\".format(oldname, newname)        \n",
      "            papers.loc[papers['author'] == oldname, 'author'] = newname"
     ],
     "language": "python",
     "metadata": {},
     "outputs": [
      {
       "output_type": "stream",
       "stream": "stdout",
       "text": [
        "Possible match: 'davies, sarah' vs 'davis, sarah' (r=0.96)\n",
        "[u'butcher, kirsten', u'cook, anne', u'crockett, ashley', u'dewald, aaron', u'ferrara, lisa', u'mazal, ashley', u'stevens, corey', u'zheng, robert']\n",
        "[u'aslin, richard', u'newport, elissa']\n"
       ]
      },
      {
       "name": "stdout",
       "output_type": "stream",
       "stream": "stdout",
       "text": [
        "Accept? (y/n) n\n"
       ]
      },
      {
       "output_type": "stream",
       "stream": "stdout",
       "text": [
        "Possible match: 'frank, michael' vs 'franke, michael' (r=0.965517241379)\n",
        "[u'alvarez, george', u'arnon, inbal', u'barner, david', u'boroditsky, lera', u'brooks, neon', u'casillas, marisa', u'emilsson, andr\\xe9s', u'fei-fei, li', u'gibson, edward', u'goldin-meadow, susan', u'goldwater, sharon', u'goodman, noah', u'horowitz, alexandra', u'jaeger, florian', u'jurafsky, dan', u'levy, roger', u'lewis, molly', u'markman, ellen', u'meylan, stephan', u'nordmeyer, ann', u'ouyang, long', u'potts, christopher', u'pusiol, guido', u'rohde, hannah', u'roy, brandon', u'roy, deb', u'simmons, kaia', u'smith, cybelle', u'soriano, laura', u'spaepen, elizabet', u'srinivasan, mahesh', u'stiller, alex', u'sullivan, jessica', u'tily, harry', u'vogel, adam', u'vosoughi, soroush', u'wade, anna', u'wagner, katie', u'winawer, jonathan', u'witthoft, nathan', u'yoon, jennifer', u'yurovsky, daniel']\n",
        "[u'degen, judith', u'j\\xe4ger, gerhard', u'qing, ciyang']\n"
       ]
      },
      {
       "name": "stdout",
       "output_type": "stream",
       "stream": "stdout",
       "text": [
        "Accept? (y/n) n\n"
       ]
      },
      {
       "output_type": "stream",
       "stream": "stdout",
       "text": [
        "Possible match: 'hsu, jane' vs 'hu, jane' (r=0.941176470588)\n",
        "[u'chang, ya-ning', u'lee, chia-ling', u'lee, chia-ying', u'liu, chao-lin']\n",
        "[u'buchsbaum, daphna', u'griffiths, thomas', u'lucas, christopher', u'xu, fei']\n"
       ]
      },
      {
       "name": "stdout",
       "output_type": "stream",
       "stream": "stdout",
       "text": [
        "Accept? (y/n) n\n"
       ]
      },
      {
       "output_type": "stream",
       "stream": "stdout",
       "text": [
        "Possible match: 'johnson, angie' vs 'johnston, angie' (r=0.965517241379)\n",
        "[u'coventry, kenny', u'thompson, emine']\n",
        "[u'johnson, samuel', u'keil, frank', u'toig, amy']\n"
       ]
      },
      {
       "name": "stdout",
       "output_type": "stream",
       "stream": "stdout",
       "text": [
        "Accept? (y/n) n\n"
       ]
      },
      {
       "output_type": "stream",
       "stream": "stdout",
       "text": [
        "Possible match: 'kim, kyung' vs 'kim, kyungil' (r=0.909090909091)\n",
        "[u'kim, young']\n",
        "[u'park, youngjun']\n"
       ]
      },
      {
       "name": "stdout",
       "output_type": "stream",
       "stream": "stdout",
       "text": [
        "Accept? (y/n) n\n"
       ]
      },
      {
       "output_type": "stream",
       "stream": "stdout",
       "text": [
        "Possible match: 'kim, yoo' vs 'kim, yoon' (r=0.941176470588)\n",
        "[u'carnevale, peter', u'dehghani, morteza', u'gratch, jonathan', u'kim, eunkyung']\n",
        "[u'kim, eun', u'lee, woo-yeol', u'lee, yoonha', u'won, jeong-ae']\n"
       ]
      },
      {
       "name": "stdout",
       "output_type": "stream",
       "stream": "stdout",
       "text": [
        "Accept? (y/n) n\n"
       ]
      },
      {
       "output_type": "stream",
       "stream": "stdout",
       "text": [
        "Possible match: 'kim, young' vs 'kim, youngok' (r=0.909090909091)\n",
        "[u'kim, kyung']\n",
        "[u'so, yeonhee']\n"
       ]
      },
      {
       "name": "stdout",
       "output_type": "stream",
       "stream": "stdout",
       "text": [
        "Accept? (y/n) n\n"
       ]
      },
      {
       "output_type": "stream",
       "stream": "stdout",
       "text": [
        "Possible match: 'li, na' vs 'li, nan' (r=0.923076923077)\n",
        "[u'akama, hiroyuki', u'black, john', u'gao, mengzi', u'lei, miao', u'murphy, brian']\n",
        "[u'cohen, william', u'danielescu, andreea', u'koedinger, kenneth', u'langley, pat', u'stampfer, eliane', u'stracuzzi, david']\n"
       ]
      },
      {
       "name": "stdout",
       "output_type": "stream",
       "stream": "stdout",
       "text": [
        "Accept? (y/n) n\n"
       ]
      },
      {
       "output_type": "stream",
       "stream": "stdout",
       "text": [
        "Possible match: 'liu, yan' vs 'liu, yang' (r=0.941176470588)\n",
        "[u'chung, fu-lai', u'zhang, yao', u'zhong, sheng-hua']\n",
        "[u'caplan, jeremy', u'chan, michelle']\n"
       ]
      },
      {
       "name": "stdout",
       "output_type": "stream",
       "stream": "stdout",
       "text": [
        "Accept? (y/n) n\n"
       ]
      },
      {
       "output_type": "stream",
       "stream": "stdout",
       "text": [
        "Possible match: 'matsumoto, takao' vs 'matsumoto, takuya' (r=0.909090909091)\n",
        "[]\n",
        "[u'sakamoto, maki', u'sumihisa, miho', u'utsumi, akira']\n"
       ]
      },
      {
       "name": "stdout",
       "output_type": "stream",
       "stream": "stdout",
       "text": [
        "Accept? (y/n) n\n"
       ]
      },
      {
       "output_type": "stream",
       "stream": "stdout",
       "text": [
        "Possible match: 'neiman, rebecca' vs 'neumann, rebecca' (r=0.903225806452)\n",
        "[u'morris, bradley']\n",
        "[u'griffiths, thomas', u'rafferty, anna']\n"
       ]
      },
      {
       "name": "stdout",
       "output_type": "stream",
       "stream": "stdout",
       "text": [
        "Accept? (y/n) n\n"
       ]
      },
      {
       "output_type": "stream",
       "stream": "stdout",
       "text": [
        "Possible match: 'okamoto, masahiko' vs 'okamoto, masashi' (r=0.909090909091)\n",
        "[u'nakamura, sari']\n",
        "[u'aramaki, eiji', u'yasuda, sachi']\n"
       ]
      },
      {
       "name": "stdout",
       "output_type": "stream",
       "stream": "stdout",
       "text": [
        "Accept? (y/n) n\n"
       ]
      },
      {
       "output_type": "stream",
       "stream": "stdout",
       "text": [
        "Possible match: 'park, keun' vs 'park, kun' (r=0.947368421053)\n",
        "[u'adachi, yuko', u'nakagami-yamaguchi, etsuko', u'nakatani, tatsuya', u'usui, shinnosuke', u'yamada, akiko']\n",
        "[u'gartenberg, daniel', u'khemlani, sangeet', u'trafton, j.']\n"
       ]
      },
      {
       "name": "stdout",
       "output_type": "stream",
       "stream": "stdout",
       "text": [
        "Accept? (y/n) n\n"
       ]
      },
      {
       "output_type": "stream",
       "stream": "stdout",
       "text": [
        "Possible match: 'read, stephen' vs 'reed, stephen' (r=0.923076923077)\n",
        "[u'carnevale, peter', u'de melo, celso', u'gratch, jonathan', u'simon, dan', u'stenstrom, douglas']\n",
        "[u'corbett, albert', u'hoffman, bob', u'maclaren, ben', u'wagner, angela']\n"
       ]
      },
      {
       "name": "stdout",
       "output_type": "stream",
       "stream": "stdout",
       "text": [
        "Accept? (y/n) n\n"
       ]
      },
      {
       "output_type": "stream",
       "stream": "stdout",
       "text": [
        "Possible match: 'simon, dan' vs 'simon, dylan' (r=0.909090909091)\n",
        "[u'read, stephen', u'stenstrom, douglas']\n",
        "[u'gureckis, todd', u'hotaling, jared', u'lee, michael', u'love, bradley']\n"
       ]
      },
      {
       "name": "stdout",
       "output_type": "stream",
       "stream": "stdout",
       "text": [
        "Accept? (y/n) n\n"
       ]
      },
      {
       "output_type": "stream",
       "stream": "stdout",
       "text": [
        "Possible match: 'wang, ning' vs 'wang, yining' (r=0.909090909091)\n",
        "[u'marsella, stacy', u'pynadath, david']\n",
        "[u'li, zhulin', u'tu, zhuowen', u'wu, jiajun']\n"
       ]
      },
      {
       "name": "stdout",
       "output_type": "stream",
       "stream": "stdout",
       "text": [
        "Accept? (y/n) n\n"
       ]
      },
      {
       "output_type": "stream",
       "stream": "stdout",
       "text": [
        "Possible match: 'watanabe, kyoko' vs 'watanabe, yoriko' (r=0.903225806452)\n",
        "[u'manalo, emmanuel', u'sheppard, chris']\n",
        "[u'harada, taeko', u'takeda, keiko']\n"
       ]
      },
      {
       "name": "stdout",
       "output_type": "stream",
       "stream": "stdout",
       "text": [
        "Accept? (y/n) n\n"
       ]
      },
      {
       "output_type": "stream",
       "stream": "stdout",
       "text": [
        "Possible match: 'zeigenfuse, matthew' vs 'zeigenfuze, matthew' (r=0.947368421053)\n",
        "[u'lee, michael']\n",
        "[u'rubin, timothy', u'steyvers, mark']\n"
       ]
      },
      {
       "name": "stdout",
       "output_type": "stream",
       "stream": "stdout",
       "text": [
        "Accept? (y/n) y\n"
       ]
      },
      {
       "output_type": "stream",
       "stream": "stdout",
       "text": [
        "Replacing 'zeigenfuze, matthew' with 'zeigenfuse, matthew'\n",
        "Possible match: '\u00f6zy\u00fcrek, asli' vs '\u00f6zy\u00fcrek, asl\u0131' (r=0.923076923077)"
       ]
      },
      {
       "output_type": "stream",
       "stream": "stdout",
       "text": [
        "\n",
        "[u'perniss, pamela', u'zwitserlood, inge']\n",
        "[u'chu, mingyuan', u'hagoort, peter', u'holler, judith', u'ortega, gerardo', u'peeters, david', u's\\xfcmer, beyza']\n"
       ]
      },
      {
       "name": "stdout",
       "output_type": "stream",
       "stream": "stdout",
       "text": [
        "Accept? (y/n) y\n"
       ]
      },
      {
       "output_type": "stream",
       "stream": "stdout",
       "text": [
        "Replacing '\u00f6zy\u00fcrek, asli' with '\u00f6zy\u00fcrek, asl\u0131'\n"
       ]
      }
     ],
     "prompt_number": 141
    },
    {
     "cell_type": "code",
     "collapsed": false,
     "input": [
      "papers = papers.drop_duplicates()"
     ],
     "language": "python",
     "metadata": {},
     "outputs": [],
     "prompt_number": 170
    },
    {
     "cell_type": "markdown",
     "metadata": {},
     "source": [
      "Given the graph, we can now do some analysis. Let's first look at the number of connected components -- these are groups of researchers who have only published with each other and not with the rest of the CogSci community:"
     ]
    },
    {
     "cell_type": "code",
     "collapsed": false,
     "input": [
      "subgraphs = nx.connected_components(G)\n",
      "subgraph_sizes = np.array([len(x) for x in subgraphs])\n",
      "print subgraph_sizes[:5]"
     ],
     "language": "python",
     "metadata": {},
     "outputs": [
      {
       "output_type": "stream",
       "stream": "stdout",
       "text": [
        "[3324   47   22   20   19]\n"
       ]
      }
     ],
     "prompt_number": 180
    },
    {
     "cell_type": "markdown",
     "metadata": {},
     "source": [
      "It looks like most authors are connect to each other, somehow, but there are a few groups that are isolated. We can take a look at the distribution of these isolated groups, in which we see these groups consist mostly of authors who have published only once or twice with a small number of other authors:"
     ]
    },
    {
     "cell_type": "code",
     "collapsed": false,
     "input": [
      "plt.hist([len(x) for x in nx.connected_components(G)][1:], bins=30)\n",
      "plt.title(\"Histogram of connected component sizes\")"
     ],
     "language": "python",
     "metadata": {},
     "outputs": [
      {
       "metadata": {},
       "output_type": "pyout",
       "prompt_number": 181,
       "text": [
        "<matplotlib.text.Text at 0x108c6be90>"
       ]
      },
      {
       "metadata": {},
       "output_type": "display_data",
       "png": "[encoded data removed]",
       "text": [
        "<matplotlib.figure.Figure at 0x108b65dd0>"
       ]
      }
     ],
     "prompt_number": 181
    },
    {
     "cell_type": "markdown",
     "metadata": {},
     "source": [
      "What about that one group with 43 authors in it? Let's take a closer look:"
     ]
    },
    {
     "cell_type": "code",
     "collapsed": false,
     "input": [
      "nx.draw(G.subgraph(subgraphs[1]))"
     ],
     "language": "python",
     "metadata": {},
     "outputs": [
      {
       "metadata": {},
       "output_type": "display_data",
       "png": "[encoded data removed]",
       "text": [
        "<matplotlib.figure.Figure at 0x1086b0c90>"
       ]
      }
     ],
     "prompt_number": 182
    },
    {
     "cell_type": "code",
     "collapsed": false,
     "input": [
      "plt.hist(nx.degree(G).values(), bins=30)\n",
      "plt.title(\"Histogram of author degrees\")"
     ],
     "language": "python",
     "metadata": {},
     "outputs": [
      {
       "metadata": {},
       "output_type": "pyout",
       "prompt_number": 183,
       "text": [
        "<matplotlib.text.Text at 0x109546410>"
       ]
      },
      {
       "metadata": {},
       "output_type": "display_data",
       "png": "[encoded data removed]",
       "text": [
        "<matplotlib.figure.Figure at 0x1084bdd50>"
       ]
      }
     ],
     "prompt_number": 183
    },
    {
     "cell_type": "code",
     "collapsed": false,
     "input": [
      "authors = papers.set_index('author').groupby(level='author').apply(len)\n",
      "authors.name = 'papers'\n",
      "authors = authors.to_frame()\n",
      "authors['coauthors'] = pd.Series(nx.degree(G))\n",
      "authors = authors.dropna()"
     ],
     "language": "python",
     "metadata": {},
     "outputs": [],
     "prompt_number": 184
    },
    {
     "cell_type": "code",
     "collapsed": false,
     "input": [
      "authors.sort(['coauthors', 'papers']).tail(10)"
     ],
     "language": "python",
     "metadata": {},
     "outputs": [
      {
       "html": [
        "<div style=\"max-height:1000px;max-width:1500px;overflow:auto;\">\n",
        "<table border=\"1\" class=\"dataframe\">\n",
        "  <thead>\n",
        "    <tr style=\"text-align: right;\">\n",
        "      <th></th>\n",
        "      <th>papers</th>\n",
        "      <th>coauthors</th>\n",
        "    </tr>\n",
        "    <tr>\n",
        "      <th>author</th>\n",
        "      <th></th>\n",
        "      <th></th>\n",
        "    </tr>\n",
        "  </thead>\n",
        "  <tbody>\n",
        "    <tr>\n",
        "      <th>chater, nick</th>\n",
        "      <td>  9</td>\n",
        "      <td> 36</td>\n",
        "    </tr>\n",
        "    <tr>\n",
        "      <th>yu, chen</th>\n",
        "      <td> 24</td>\n",
        "      <td> 39</td>\n",
        "    </tr>\n",
        "    <tr>\n",
        "      <th>goodman, noah</th>\n",
        "      <td> 29</td>\n",
        "      <td> 40</td>\n",
        "    </tr>\n",
        "    <tr>\n",
        "      <th>busemeyer, jerome</th>\n",
        "      <td> 17</td>\n",
        "      <td> 41</td>\n",
        "    </tr>\n",
        "    <tr>\n",
        "      <th>frank, michael</th>\n",
        "      <td> 27</td>\n",
        "      <td> 43</td>\n",
        "    </tr>\n",
        "    <tr>\n",
        "      <th>hu, jon-fan</th>\n",
        "      <td> 21</td>\n",
        "      <td> 45</td>\n",
        "    </tr>\n",
        "    <tr>\n",
        "      <th>dale, rick</th>\n",
        "      <td> 30</td>\n",
        "      <td> 53</td>\n",
        "    </tr>\n",
        "    <tr>\n",
        "      <th>griffiths, thomas</th>\n",
        "      <td> 41</td>\n",
        "      <td> 57</td>\n",
        "    </tr>\n",
        "    <tr>\n",
        "      <th>gentner, dedre</th>\n",
        "      <td> 24</td>\n",
        "      <td> 58</td>\n",
        "    </tr>\n",
        "    <tr>\n",
        "      <th>tenenbaum, joshua</th>\n",
        "      <td> 43</td>\n",
        "      <td> 69</td>\n",
        "    </tr>\n",
        "  </tbody>\n",
        "</table>\n",
        "<p>10 rows \u00d7 2 columns</p>\n",
        "</div>"
       ],
       "metadata": {},
       "output_type": "pyout",
       "prompt_number": 192,
       "text": [
        "                   papers  coauthors\n",
        "author                              \n",
        "chater, nick            9         36\n",
        "yu, chen               24         39\n",
        "goodman, noah          29         40\n",
        "busemeyer, jerome      17         41\n",
        "frank, michael         27         43\n",
        "hu, jon-fan            21         45\n",
        "dale, rick             30         53\n",
        "griffiths, thomas      41         57\n",
        "gentner, dedre         24         58\n",
        "tenenbaum, joshua      43         69\n",
        "\n",
        "[10 rows x 2 columns]"
       ]
      }
     ],
     "prompt_number": 192
    },
    {
     "cell_type": "code",
     "collapsed": false,
     "input": [
      "authors.sort(['papers', 'coauthors']).tail(10)"
     ],
     "language": "python",
     "metadata": {},
     "outputs": [
      {
       "html": [
        "<div style=\"max-height:1000px;max-width:1500px;overflow:auto;\">\n",
        "<table border=\"1\" class=\"dataframe\">\n",
        "  <thead>\n",
        "    <tr style=\"text-align: right;\">\n",
        "      <th></th>\n",
        "      <th>papers</th>\n",
        "      <th>coauthors</th>\n",
        "    </tr>\n",
        "    <tr>\n",
        "      <th>author</th>\n",
        "      <th></th>\n",
        "      <th></th>\n",
        "    </tr>\n",
        "  </thead>\n",
        "  <tbody>\n",
        "    <tr>\n",
        "      <th>sloutsky, vladimir</th>\n",
        "      <td> 25</td>\n",
        "      <td> 21</td>\n",
        "    </tr>\n",
        "    <tr>\n",
        "      <th>shiffrin, richard</th>\n",
        "      <td> 27</td>\n",
        "      <td> 29</td>\n",
        "    </tr>\n",
        "    <tr>\n",
        "      <th>casasanto, daniel</th>\n",
        "      <td> 27</td>\n",
        "      <td> 32</td>\n",
        "    </tr>\n",
        "    <tr>\n",
        "      <th>frank, michael</th>\n",
        "      <td> 27</td>\n",
        "      <td> 43</td>\n",
        "    </tr>\n",
        "    <tr>\n",
        "      <th>krahmer, emiel</th>\n",
        "      <td> 28</td>\n",
        "      <td> 29</td>\n",
        "    </tr>\n",
        "    <tr>\n",
        "      <th>goodman, noah</th>\n",
        "      <td> 29</td>\n",
        "      <td> 40</td>\n",
        "    </tr>\n",
        "    <tr>\n",
        "      <th>goldstone, robert</th>\n",
        "      <td> 30</td>\n",
        "      <td> 34</td>\n",
        "    </tr>\n",
        "    <tr>\n",
        "      <th>dale, rick</th>\n",
        "      <td> 30</td>\n",
        "      <td> 53</td>\n",
        "    </tr>\n",
        "    <tr>\n",
        "      <th>griffiths, thomas</th>\n",
        "      <td> 41</td>\n",
        "      <td> 57</td>\n",
        "    </tr>\n",
        "    <tr>\n",
        "      <th>tenenbaum, joshua</th>\n",
        "      <td> 43</td>\n",
        "      <td> 69</td>\n",
        "    </tr>\n",
        "  </tbody>\n",
        "</table>\n",
        "<p>10 rows \u00d7 2 columns</p>\n",
        "</div>"
       ],
       "metadata": {},
       "output_type": "pyout",
       "prompt_number": 191,
       "text": [
        "                    papers  coauthors\n",
        "author                               \n",
        "sloutsky, vladimir      25         21\n",
        "shiffrin, richard       27         29\n",
        "casasanto, daniel       27         32\n",
        "frank, michael          27         43\n",
        "krahmer, emiel          28         29\n",
        "goodman, noah           29         40\n",
        "goldstone, robert       30         34\n",
        "dale, rick              30         53\n",
        "griffiths, thomas       41         57\n",
        "tenenbaum, joshua       43         69\n",
        "\n",
        "[10 rows x 2 columns]"
       ]
      }
     ],
     "prompt_number": 191
    },
    {
     "cell_type": "code",
     "collapsed": false,
     "input": [
      "G['dale, rick']"
     ],
     "language": "python",
     "metadata": {},
     "outputs": [
      {
       "metadata": {},
       "output_type": "pyout",
       "prompt_number": 188,
       "text": [
        "{u'abney, drew': {'papers': 3},\n",
        " u'benesh, nick': {'papers': 1},\n",
        " u'bergmann, till': {'papers': 1},\n",
        " u'chemero, tony': {'papers': 1},\n",
        " u'clarke, richard': {'papers': 1},\n",
        " u'coco, moreno': {'papers': 1},\n",
        " u'cox, ralf': {'papers': 1},\n",
        " u'dietrich, eric': {'papers': 1},\n",
        " u'duran, nicholas': {'papers': 5},\n",
        " u'fonville, brent': {'papers': 1},\n",
        " u'freeman, jonathan': {'papers': 2},\n",
        " u'fusaroli, riccardo': {'papers': 1},\n",
        " u'gilkerson, jill': {'papers': 1},\n",
        " u'hasselman, fred': {'papers': 1},\n",
        " u'healey, patrick': {'papers': 1},\n",
        " u'holden, john': {'papers': 1},\n",
        " u'h\\xe5konsson, dorthe': {'papers': 1},\n",
        " u'ireland, james': {'papers': 2},\n",
        " u'jupson, ronni': {'papers': 1},\n",
        " u'kello, chris': {'papers': 1},\n",
        " u'kello, christopher': {'papers': 1},\n",
        " u'kopp, stefan': {'papers': 1},\n",
        " u'kreuz, roger': {'papers': 3},\n",
        " u'lotto, beau': {'papers': 1},\n",
        " u'love, bradley': {'papers': 1},\n",
        " u'lupyan, gary': {'papers': 2},\n",
        " u'matlock, teenie': {'papers': 1},\n",
        " u'mcgraw, john': {'papers': 1},\n",
        " u'mitkidis, panagiotis': {'papers': 1},\n",
        " u'm\\xf8nster, dan': {'papers': 1},\n",
        " u'nagai, yukie': {'papers': 1},\n",
        " u\"o'hora, denis\": {'papers': 1},\n",
        " u'oller, d.': {'papers': 1},\n",
        " u'olney, andrew': {'papers': 1},\n",
        " u'paxton, alexandra': {'papers': 4},\n",
        " u'perlman, marcus': {'papers': 1},\n",
        " u'richards, jeffrey': {'papers': 1},\n",
        " u'richardson, daniel': {'papers': 2},\n",
        " u'riefer, peter': {'papers': 1},\n",
        " u'riordan, monica': {'papers': 2},\n",
        " u'roche, amy': {'papers': 1},\n",
        " u'roche, jennifer': {'papers': 3},\n",
        " u'rogers, john': {'papers': 2},\n",
        " u'seevinck, michael': {'papers': 1},\n",
        " u'spivey, michael': {'papers': 1},\n",
        " u'szary, janelle': {'papers': 2},\n",
        " u'tabatabaeian, maryam': {'papers': 2},\n",
        " u'tomlinson, john': {'papers': 1},\n",
        " u'tyl\\xe9n, kristian': {'papers': 1},\n",
        " u'vinson, david': {'papers': 3},\n",
        " u'warlaumont, anne': {'papers': 1},\n",
        " u'xu, dongxin': {'papers': 1},\n",
        " u'yu, chen': {'papers': 1}}"
       ]
      }
     ],
     "prompt_number": 188
    }
   ],
   "metadata": {}
  }
 ]
}