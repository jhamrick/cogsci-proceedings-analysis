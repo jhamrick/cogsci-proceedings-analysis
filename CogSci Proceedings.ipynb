{
 "metadata": {
  "name": "",
  "signature": "sha256:39885c8936e724a4e78851773d03630b5f0cf4db47271c5fbc24add52ae6f889"
 },
 "nbformat": 3,
 "nbformat_minor": 0,
 "worksheets": [
  {
   "cells": [
    {
     "cell_type": "heading",
     "level": 1,
     "metadata": {},
     "source": [
      "Analyzing CogSci proceedings authors"
     ]
    },
    {
     "cell_type": "code",
     "collapsed": false,
     "input": [
      "%matplotlib inline\n",
      "%load_ext autoreload\n",
      "%autoreload 2"
     ],
     "language": "python",
     "metadata": {},
     "outputs": []
    },
    {
     "cell_type": "markdown",
     "metadata": {},
     "source": [
      "Load the papers, and include only talks and posters:"
     ]
    },
    {
     "cell_type": "code",
     "collapsed": false,
     "input": [
      "import pandas as pd\n",
      "papers = pd.read_csv(\"cogsci_proceedings.csv\", encoding='utf-8', index_col=0)\n",
      "papers = papers[(papers['type'] == 'talk') | (papers['type'] == 'poster')]\n",
      "papers.head(3)"
     ],
     "language": "python",
     "metadata": {},
     "outputs": []
    },
    {
     "cell_type": "markdown",
     "metadata": {},
     "source": [
      "Let's now create a graph of author connectivity -- one link between each pair of authors that has published together:"
     ]
    },
    {
     "cell_type": "code",
     "collapsed": false,
     "input": [
      "import graph\n",
      "G = graph.make_author_graph(papers)"
     ],
     "language": "python",
     "metadata": {},
     "outputs": []
    },
    {
     "cell_type": "markdown",
     "metadata": {},
     "source": [
      "Given the graph, we can now do some analysis. Let's first look at the number of connected components -- these are groups of researchers who have only published with each other and not with the rest of the CogSci community:"
     ]
    },
    {
     "cell_type": "code",
     "collapsed": false,
     "input": [
      "import networkx as nx"
     ],
     "language": "python",
     "metadata": {},
     "outputs": []
    },
    {
     "cell_type": "code",
     "collapsed": false,
     "input": [
      "subgraphs = nx.connected_components(G)\n",
      "subgraph_sizes = np.array([len(x) for x in subgraphs])\n",
      "print subgraph_sizes[:5]"
     ],
     "language": "python",
     "metadata": {},
     "outputs": []
    },
    {
     "cell_type": "markdown",
     "metadata": {},
     "source": [
      "It looks like most authors are connect to each other, somehow, but there are a few groups that are isolated. We can take a look at the distribution of these isolated groups, in which we see these groups consist mostly of authors who have published only once or twice with a small number of other authors:"
     ]
    },
    {
     "cell_type": "code",
     "collapsed": false,
     "input": [
      "plt.hist([len(x) for x in nx.connected_components(G)][1:], bins=30)\n",
      "plt.title(\"Histogram of connected component sizes\")"
     ],
     "language": "python",
     "metadata": {},
     "outputs": []
    },
    {
     "cell_type": "markdown",
     "metadata": {},
     "source": [
      "Let's look more closely at individual authors. We can construct a new dataframe that gives us information on each author, including the number of papers they have authored, the number of coauthors, and the pagerank:"
     ]
    },
    {
     "cell_type": "code",
     "collapsed": false,
     "input": [
      "authors = papers.set_index('author').groupby(level='author').apply(len)\n",
      "authors.name = 'papers'\n",
      "authors = authors.to_frame()\n",
      "authors['coauthors'] = pd.Series(nx.degree(G))\n",
      "authors['pagerank'] = pd.Series(nx.pagerank(G))\n",
      "authors.sort('pagerank').tail(10)"
     ],
     "language": "python",
     "metadata": {},
     "outputs": []
    },
    {
     "cell_type": "markdown",
     "metadata": {},
     "source": [
      "This is a histogram of the number of coauthors each person has:"
     ]
    },
    {
     "cell_type": "code",
     "collapsed": false,
     "input": [
      "plt.hist(authors['coauthors'], bins=30)\n",
      "plt.title(\"Histogram of total coauthors\")"
     ],
     "language": "python",
     "metadata": {},
     "outputs": []
    },
    {
     "cell_type": "markdown",
     "metadata": {},
     "source": [
      "This is a histogram of authors' pageranks:"
     ]
    },
    {
     "cell_type": "code",
     "collapsed": false,
     "input": [
      "plt.hist(authors['pagerank'], bins=100)\n",
      "plt.title(\"Histogram of author pageranks\")"
     ],
     "language": "python",
     "metadata": {},
     "outputs": []
    },
    {
     "cell_type": "markdown",
     "metadata": {},
     "source": [
      "We can also look at the distribution of clique sizes:"
     ]
    },
    {
     "cell_type": "code",
     "collapsed": false,
     "input": [
      "def clique_hist(cliques):\n",
      "    clique_sizes = [len(x) for x in cliques]\n",
      "    plt.hist(clique_sizes)"
     ],
     "language": "python",
     "metadata": {},
     "outputs": []
    },
    {
     "cell_type": "code",
     "collapsed": false,
     "input": [
      "cliques = list(nx.find_cliques(G))\n",
      "clique_hist(cliques)"
     ],
     "language": "python",
     "metadata": {},
     "outputs": []
    },
    {
     "cell_type": "markdown",
     "metadata": {},
     "source": [
      "And finally, a graph of author connectivity. Size indicates squared degree (number of total coauthors, squared) and color indicates number of papers. The graph only includes people who authored at least 3 papers, and only people with at least 15 coauthors are labeled."
     ]
    },
    {
     "cell_type": "code",
     "collapsed": false,
     "input": [
      "graph.draw(G, with_labels=True, n=15, threshold=3)\n",
      "fig = plt.gcf()\n",
      "fig.set_figwidth(20)\n",
      "fig.set_figheight(20)"
     ],
     "language": "python",
     "metadata": {},
     "outputs": []
    }
   ],
   "metadata": {}
  }
 ]
}